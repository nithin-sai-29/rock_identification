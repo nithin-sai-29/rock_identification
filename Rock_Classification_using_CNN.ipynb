{
 "cells": [
  {
   "cell_type": "markdown",
   "metadata": {},
   "source": [
    "# Detecting Building defects using CNN"
   ]
  },
  {
   "cell_type": "markdown",
   "metadata": {},
   "source": [
    "### Importing Neccessary Libraries"
   ]
  },
  {
   "cell_type": "code",
   "execution_count": 1,
   "metadata": {},
   "outputs": [
    {
     "name": "stderr",
     "output_type": "stream",
     "text": [
      "Using TensorFlow backend.\n"
     ]
    }
   ],
   "source": [
    "import numpy as np#used for numerical analysis\n",
    "import tensorflow #open source used for both ML and DL for computation\n",
    "from tensorflow.keras.models import Sequential #it is a plain stack of layers\n",
    "from tensorflow.keras import layers #A layer consists of a tensor-in tensor-out computation function\n",
    "#Dense layer is the regular deeply connected neural network layer\n",
    "from tensorflow.keras.layers import Dense,Flatten\n",
    "#Faltten-used fot flattening the input or change the dimension\n",
    "from tensorflow.keras.layers import Conv2D,MaxPooling2D #Convolutional layer\n",
    "#MaxPooling2D-for downsampling the image\n",
    "from keras.preprocessing.image import ImageDataGenerator\n"
   ]
  },
  {
   "cell_type": "markdown",
   "metadata": {},
   "source": [
    "### Image Data Agumentation"
   ]
  },
  {
   "cell_type": "code",
   "execution_count": 2,
   "metadata": {},
   "outputs": [],
   "source": [
    "#setting parameter for Image Data agumentation to the training data\n",
    "train_datagen = ImageDataGenerator(rescale=1./255,shear_range=0.2,zoom_range=0.2,horizontal_flip=True)\n",
    "#Image Data agumentation to the testing data\n",
    "test_datagen=ImageDataGenerator(rescale=1./255)"
   ]
  },
  {
   "cell_type": "code",
   "execution_count": null,
   "metadata": {},
   "outputs": [],
   "source": []
  },
  {
   "cell_type": "markdown",
   "metadata": {},
   "source": [
    "### Loading our data and performing data agumentation"
   ]
  },
  {
   "cell_type": "code",
   "execution_count": 5,
   "metadata": {},
   "outputs": [
    {
     "name": "stdout",
     "output_type": "stream",
     "text": [
      "Found 700 images belonging to 5 classes.\n",
      "Found 300 images belonging to 5 classes.\n"
     ]
    }
   ],
   "source": [
    "#performing data agumentation to train data\n",
    "x_train = train_datagen.flow_from_directory(\n",
    "    r'E:\\GRIP Venkatesh\\Rock_Classification\\Rock_Classification_Dataset\\train_set',\n",
    "    target_size=(64, 64),batch_size=5,color_mode='rgb',class_mode='categorical')\n",
    "#performing data agumentation to test data\n",
    "x_test = test_datagen.flow_from_directory(\n",
    "    r'E:\\GRIP Venkatesh\\Rock_Classification\\Rock_Classification_Dataset\\test_set',\n",
    "    target_size=(64, 64),batch_size=5,color_mode='rgb',class_mode='categorical') "
   ]
  },
  {
   "cell_type": "code",
   "execution_count": 9,
   "metadata": {},
   "outputs": [
    {
     "name": "stdout",
     "output_type": "stream",
     "text": [
      "{'blue calcite': 0, 'limestone': 1, 'marble': 2, 'olivine': 3, 'red crystal': 4}\n"
     ]
    }
   ],
   "source": [
    "print(x_train.class_indices)#checking the number of classes"
   ]
  },
  {
   "cell_type": "code",
   "execution_count": 10,
   "metadata": {},
   "outputs": [
    {
     "name": "stdout",
     "output_type": "stream",
     "text": [
      "{'blue calcite': 0, 'limestone': 1, 'marble': 2, 'olivine': 3, 'red crystal': 4}\n"
     ]
    }
   ],
   "source": [
    "print(x_test.class_indices)#checking the number of classes"
   ]
  },
  {
   "cell_type": "code",
   "execution_count": 11,
   "metadata": {},
   "outputs": [
    {
     "data": {
      "text/plain": [
       "Counter({0: 140, 1: 140, 2: 140, 3: 140, 4: 140})"
      ]
     },
     "execution_count": 11,
     "metadata": {},
     "output_type": "execute_result"
    }
   ],
   "source": [
    "from collections import Counter as c\n",
    "c(x_train .labels)"
   ]
  },
  {
   "cell_type": "markdown",
   "metadata": {},
   "source": [
    "### Creating the model"
   ]
  },
  {
   "cell_type": "code",
   "execution_count": 16,
   "metadata": {},
   "outputs": [],
   "source": [
    "# Initializing the CNN\n",
    "classifier = Sequential()\n",
    "\n",
    "# First convolution layer and pooling\n",
    "classifier.add(Conv2D(32, (3, 3), input_shape=(64, 64, 3), activation='relu'))\n",
    "classifier.add(MaxPooling2D(pool_size=(2, 2)))\n",
    "# Second convolution layer and pooling\n",
    "classifier.add(Conv2D(32, (3, 3), activation='relu'))\n",
    "# input_shape is going to be the pooled feature maps from the previous convolution layer\n",
    "classifier.add(MaxPooling2D(pool_size=(2, 2)))\n",
    "\n",
    "# Flattening the layers\n",
    "classifier.add(Flatten())\n",
    "\n",
    "# Adding a fully connected layer\n",
    "classifier.add(Dense(units=128, activation='relu'))\n",
    "classifier.add(Dense(units=5, activation='softmax')) # softmax for more than 2\n",
    "\n"
   ]
  },
  {
   "cell_type": "code",
   "execution_count": 17,
   "metadata": {},
   "outputs": [
    {
     "name": "stdout",
     "output_type": "stream",
     "text": [
      "Model: \"sequential_1\"\n",
      "_________________________________________________________________\n",
      "Layer (type)                 Output Shape              Param #   \n",
      "=================================================================\n",
      "conv2d_2 (Conv2D)            (None, 62, 62, 32)        896       \n",
      "_________________________________________________________________\n",
      "max_pooling2d_2 (MaxPooling2 (None, 31, 31, 32)        0         \n",
      "_________________________________________________________________\n",
      "conv2d_3 (Conv2D)            (None, 29, 29, 32)        9248      \n",
      "_________________________________________________________________\n",
      "max_pooling2d_3 (MaxPooling2 (None, 14, 14, 32)        0         \n",
      "_________________________________________________________________\n",
      "flatten_1 (Flatten)          (None, 6272)              0         \n",
      "_________________________________________________________________\n",
      "dense_2 (Dense)              (None, 128)               802944    \n",
      "_________________________________________________________________\n",
      "dense_3 (Dense)              (None, 5)                 645       \n",
      "=================================================================\n",
      "Total params: 813,733\n",
      "Trainable params: 813,733\n",
      "Non-trainable params: 0\n",
      "_________________________________________________________________\n"
     ]
    }
   ],
   "source": [
    "classifier.summary()#summary of our model"
   ]
  },
  {
   "cell_type": "markdown",
   "metadata": {},
   "source": [
    "### Compiling the model"
   ]
  },
  {
   "cell_type": "code",
   "execution_count": 18,
   "metadata": {},
   "outputs": [],
   "source": [
    "# Compiling the CNN\n",
    "# categorical_crossentropy for more than 2\n",
    "classifier.compile(optimizer='adam', loss='categorical_crossentropy', metrics=['accuracy']) "
   ]
  },
  {
   "cell_type": "markdown",
   "metadata": {},
   "source": [
    "## Fitting the model"
   ]
  },
  {
   "cell_type": "code",
   "execution_count": 19,
   "metadata": {
    "scrolled": true
   },
   "outputs": [
    {
     "name": "stdout",
     "output_type": "stream",
     "text": [
      "Epoch 1/50\n",
      "140/140 [==============================] - 11s 76ms/step - loss: 1.1382 - acc: 0.4829 - val_loss: 0.9346 - val_acc: 0.5667\n",
      "Epoch 2/50\n",
      "140/140 [==============================] - 4s 29ms/step - loss: 0.6776 - acc: 0.7286 - val_loss: 0.4576 - val_acc: 0.8467\n",
      "Epoch 3/50\n",
      "140/140 [==============================] - 4s 29ms/step - loss: 0.4876 - acc: 0.7971 - val_loss: 1.0653 - val_acc: 0.6933\n",
      "Epoch 4/50\n",
      "140/140 [==============================] - 4s 29ms/step - loss: 0.4732 - acc: 0.8171 - val_loss: 0.4588 - val_acc: 0.8467\n",
      "Epoch 5/50\n",
      "140/140 [==============================] - 4s 29ms/step - loss: 0.3873 - acc: 0.8329 - val_loss: 0.3770 - val_acc: 0.8700\n",
      "Epoch 6/50\n",
      "140/140 [==============================] - 4s 29ms/step - loss: 0.3618 - acc: 0.8543 - val_loss: 0.5339 - val_acc: 0.8800\n",
      "Epoch 7/50\n",
      "140/140 [==============================] - 4s 29ms/step - loss: 0.3561 - acc: 0.8571 - val_loss: 0.3267 - val_acc: 0.8833\n",
      "Epoch 8/50\n",
      "140/140 [==============================] - 4s 29ms/step - loss: 0.2855 - acc: 0.8814 - val_loss: 0.5956 - val_acc: 0.8267\n",
      "Epoch 9/50\n",
      "140/140 [==============================] - 4s 29ms/step - loss: 0.3266 - acc: 0.8757 - val_loss: 0.5736 - val_acc: 0.8500\n",
      "Epoch 10/50\n",
      "140/140 [==============================] - 4s 29ms/step - loss: 0.2829 - acc: 0.8914 - val_loss: 0.4487 - val_acc: 0.8767\n",
      "Epoch 11/50\n",
      "140/140 [==============================] - 4s 29ms/step - loss: 0.2908 - acc: 0.8871 - val_loss: 0.3750 - val_acc: 0.8633\n",
      "Epoch 12/50\n",
      "140/140 [==============================] - 4s 29ms/step - loss: 0.2362 - acc: 0.8914 - val_loss: 0.3931 - val_acc: 0.8767\n",
      "Epoch 13/50\n",
      "140/140 [==============================] - 4s 29ms/step - loss: 0.2900 - acc: 0.8771 - val_loss: 0.4186 - val_acc: 0.8700\n",
      "Epoch 14/50\n",
      "140/140 [==============================] - 4s 29ms/step - loss: 0.2472 - acc: 0.9014 - val_loss: 0.5045 - val_acc: 0.8700\n",
      "Epoch 15/50\n",
      "140/140 [==============================] - 4s 29ms/step - loss: 0.1991 - acc: 0.9100 - val_loss: 0.4176 - val_acc: 0.8733\n",
      "Epoch 16/50\n",
      "140/140 [==============================] - 4s 29ms/step - loss: 0.2344 - acc: 0.9029 - val_loss: 0.3694 - val_acc: 0.8600\n",
      "Epoch 17/50\n",
      "140/140 [==============================] - 4s 29ms/step - loss: 0.2277 - acc: 0.9071 - val_loss: 0.3927 - val_acc: 0.8800\n",
      "Epoch 18/50\n",
      "140/140 [==============================] - 4s 30ms/step - loss: 0.2047 - acc: 0.9057 - val_loss: 0.6060 - val_acc: 0.8500\n",
      "Epoch 19/50\n",
      "140/140 [==============================] - 4s 29ms/step - loss: 0.2048 - acc: 0.9243 - val_loss: 0.5699 - val_acc: 0.8767\n",
      "Epoch 20/50\n",
      "140/140 [==============================] - 4s 29ms/step - loss: 0.2489 - acc: 0.9143 - val_loss: 0.6211 - val_acc: 0.8633\n",
      "Epoch 21/50\n",
      "140/140 [==============================] - 4s 29ms/step - loss: 0.2395 - acc: 0.9000 - val_loss: 0.6837 - val_acc: 0.7867\n",
      "Epoch 22/50\n",
      "140/140 [==============================] - 4s 29ms/step - loss: 0.1695 - acc: 0.9314 - val_loss: 0.6417 - val_acc: 0.8533\n",
      "Epoch 23/50\n",
      "140/140 [==============================] - 4s 31ms/step - loss: 0.1777 - acc: 0.9271 - val_loss: 0.9791 - val_acc: 0.7900\n",
      "Epoch 24/50\n",
      "140/140 [==============================] - 4s 32ms/step - loss: 0.3189 - acc: 0.9014 - val_loss: 0.5203 - val_acc: 0.8833\n",
      "Epoch 25/50\n",
      "140/140 [==============================] - 4s 30ms/step - loss: 0.2134 - acc: 0.9286 - val_loss: 0.5028 - val_acc: 0.8800\n",
      "Epoch 26/50\n",
      "140/140 [==============================] - 4s 31ms/step - loss: 0.1294 - acc: 0.9529 - val_loss: 0.5148 - val_acc: 0.8767\n",
      "Epoch 27/50\n",
      "140/140 [==============================] - 5s 33ms/step - loss: 0.1349 - acc: 0.9471 - val_loss: 0.5623 - val_acc: 0.8767\n",
      "Epoch 28/50\n",
      "140/140 [==============================] - 4s 30ms/step - loss: 0.1109 - acc: 0.9457 - val_loss: 0.5337 - val_acc: 0.8800\n",
      "Epoch 29/50\n",
      "140/140 [==============================] - 4s 31ms/step - loss: 0.1179 - acc: 0.9529 - val_loss: 0.5320 - val_acc: 0.8900\n",
      "Epoch 30/50\n",
      "140/140 [==============================] - 5s 33ms/step - loss: 0.1522 - acc: 0.9414 - val_loss: 0.7624 - val_acc: 0.8267\n",
      "Epoch 31/50\n",
      "140/140 [==============================] - 4s 29ms/step - loss: 0.1438 - acc: 0.9443 - val_loss: 0.5033 - val_acc: 0.8967\n",
      "Epoch 32/50\n",
      "140/140 [==============================] - 4s 30ms/step - loss: 0.1763 - acc: 0.9400 - val_loss: 0.4929 - val_acc: 0.8900\n",
      "Epoch 33/50\n",
      "140/140 [==============================] - 4s 31ms/step - loss: 0.1462 - acc: 0.9457 - val_loss: 1.2434 - val_acc: 0.7967\n",
      "Epoch 34/50\n",
      "140/140 [==============================] - 5s 35ms/step - loss: 0.2175 - acc: 0.9186 - val_loss: 0.4511 - val_acc: 0.8667\n",
      "Epoch 35/50\n",
      "140/140 [==============================] - 5s 33ms/step - loss: 0.1353 - acc: 0.9414 - val_loss: 0.6448 - val_acc: 0.8533\n",
      "Epoch 36/50\n",
      "140/140 [==============================] - 4s 28ms/step - loss: 0.1990 - acc: 0.9300 - val_loss: 0.6781 - val_acc: 0.8900\n",
      "Epoch 37/50\n",
      "140/140 [==============================] - 4s 30ms/step - loss: 0.1042 - acc: 0.9614 - val_loss: 0.9138 - val_acc: 0.8167\n",
      "Epoch 38/50\n",
      "140/140 [==============================] - 4s 29ms/step - loss: 0.1325 - acc: 0.9600 - val_loss: 0.7512 - val_acc: 0.8167\n",
      "Epoch 39/50\n",
      "140/140 [==============================] - 4s 27ms/step - loss: 0.1034 - acc: 0.9614 - val_loss: 0.6873 - val_acc: 0.8733\n",
      "Epoch 40/50\n",
      "140/140 [==============================] - 4s 28ms/step - loss: 0.1150 - acc: 0.9600 - val_loss: 0.8674 - val_acc: 0.8533\n",
      "Epoch 41/50\n",
      "140/140 [==============================] - 4s 27ms/step - loss: 0.1284 - acc: 0.9500 - val_loss: 0.6731 - val_acc: 0.8567\n",
      "Epoch 42/50\n",
      "140/140 [==============================] - 4s 27ms/step - loss: 0.0875 - acc: 0.9614 - val_loss: 0.7027 - val_acc: 0.8900\n",
      "Epoch 43/50\n",
      "140/140 [==============================] - 4s 27ms/step - loss: 0.0769 - acc: 0.9657 - val_loss: 1.0040 - val_acc: 0.8933\n",
      "Epoch 44/50\n",
      "140/140 [==============================] - 4s 29ms/step - loss: 0.1059 - acc: 0.9557 - val_loss: 0.7731 - val_acc: 0.8433\n",
      "Epoch 45/50\n",
      "140/140 [==============================] - 4s 30ms/step - loss: 0.1491 - acc: 0.9543 - val_loss: 0.7673 - val_acc: 0.8333\n",
      "Epoch 46/50\n",
      "140/140 [==============================] - 4s 27ms/step - loss: 0.0907 - acc: 0.9671 - val_loss: 0.6721 - val_acc: 0.8567\n",
      "Epoch 47/50\n",
      "140/140 [==============================] - 4s 29ms/step - loss: 0.0979 - acc: 0.9643 - val_loss: 0.9790 - val_acc: 0.8367\n",
      "Epoch 48/50\n",
      "140/140 [==============================] - 4s 27ms/step - loss: 0.0846 - acc: 0.9700 - val_loss: 0.6769 - val_acc: 0.8800\n",
      "Epoch 49/50\n",
      "140/140 [==============================] - 4s 27ms/step - loss: 0.1008 - acc: 0.9657 - val_loss: 0.7786 - val_acc: 0.8767\n",
      "Epoch 50/50\n",
      "140/140 [==============================] - 4s 28ms/step - loss: 0.0515 - acc: 0.9814 - val_loss: 0.8671 - val_acc: 0.8633\n"
     ]
    },
    {
     "data": {
      "text/plain": [
       "<tensorflow.python.keras.callbacks.History at 0x258dc958bc8>"
      ]
     },
     "execution_count": 19,
     "metadata": {},
     "output_type": "execute_result"
    }
   ],
   "source": [
    "classifier.fit_generator(\n",
    "        generator=x_train,steps_per_epoch = len(x_train),\n",
    "        epochs=50, validation_data=x_test,validation_steps = len(x_test))# No of images in test set"
   ]
  },
  {
   "cell_type": "markdown",
   "metadata": {},
   "source": [
    "### Saving our model"
   ]
  },
  {
   "cell_type": "code",
   "execution_count": 20,
   "metadata": {},
   "outputs": [],
   "source": [
    "# Save the model\n",
    "classifier.save('rock.h5')"
   ]
  },
  {
   "cell_type": "code",
   "execution_count": null,
   "metadata": {},
   "outputs": [],
   "source": [
    "model_json = classifier.to_json()\n",
    "with open(\"model-bw.json\", \"w\") as json_file:\n",
    "    json_file.write(model_json)"
   ]
  },
  {
   "cell_type": "code",
   "execution_count": null,
   "metadata": {},
   "outputs": [],
   "source": []
  },
  {
   "cell_type": "markdown",
   "metadata": {},
   "source": [
    "### Predicting our results"
   ]
  },
  {
   "cell_type": "code",
   "execution_count": 2,
   "metadata": {},
   "outputs": [],
   "source": [
    "from tensorflow.keras.models import load_model\n",
    "from keras.preprocessing import image\n",
    "model = load_model(\"rock.h5\") #loading the model for testing"
   ]
  },
  {
   "cell_type": "code",
   "execution_count": 3,
   "metadata": {},
   "outputs": [
    {
     "name": "stderr",
     "output_type": "stream",
     "text": [
      "C:\\Users\\smartbridge\\Anaconda3\\envs\\rock\\lib\\site-packages\\tensorflow\\python\\keras\\engine\\sequential.py:450: UserWarning: `model.predict_classes()` is deprecated and will be removed after 2021-01-01. Please use instead:* `np.argmax(model.predict(x), axis=-1)`,   if your model does multi-class classification   (e.g. if it uses a `softmax` last-layer activation).* `(model.predict(x) > 0.5).astype(\"int32\")`,   if your model does binary classification   (e.g. if it uses a `sigmoid` last-layer activation).\n",
      "  warnings.warn('`model.predict_classes()` is deprecated and '\n"
     ]
    },
    {
     "data": {
      "text/plain": [
       "array([1], dtype=int64)"
      ]
     },
     "execution_count": 3,
     "metadata": {},
     "output_type": "execute_result"
    }
   ],
   "source": [
    "img = image.load_img(r\"E:\\GRIP Venkatesh\\Rock_Classification\\Rock_Classification_Dataset\\o1.jpg\",\n",
    "                     grayscale=False,target_size= (64,64))#loading of the image\n",
    "x = image.img_to_array(img)#image to array\n",
    "x = np.expand_dims(x,axis = 0)#changing the shape\n",
    "pred = model.predict_classes(x)#predicting the classes\n",
    "pred"
   ]
  },
  {
   "cell_type": "code",
   "execution_count": 4,
   "metadata": {},
   "outputs": [
    {
     "data": {
      "text/plain": [
       "'limestone'"
      ]
     },
     "execution_count": 4,
     "metadata": {},
     "output_type": "execute_result"
    }
   ],
   "source": [
    "index=['blue calcite', 'limestone', 'marble', 'olivine', 'red crystal']\n",
    "result=str(index[pred[0]])\n",
    "result"
   ]
  },
  {
   "cell_type": "code",
   "execution_count": 2,
   "metadata": {},
   "outputs": [
    {
     "name": "stdout",
     "output_type": "stream",
     "text": [
      "Collecting jupyterthemes\n",
      "  Using cached https://files.pythonhosted.org/packages/8a/08/9dee6dfd7f2aad6c30282d55c8f495b4dc1e4747b4e2bdbeb80572ddf312/jupyterthemes-0.20.0-py2.py3-none-any.whl\n",
      "Requirement already satisfied: matplotlib>=1.4.3 in c:\\users\\smartbridge\\anaconda3\\envs\\rock\\lib\\site-packages (from jupyterthemes) (3.1.1)\n",
      "Collecting lesscpy>=0.11.2 (from jupyterthemes)\n",
      "  Using cached https://files.pythonhosted.org/packages/f8/d2/665cda6614e3556eaeb7553a3a2963624c2e3bc9636777a1bb654b87b027/lesscpy-0.14.0-py2.py3-none-any.whl\n",
      "Requirement already satisfied: ipython>=5.4.1 in c:\\users\\smartbridge\\anaconda3\\envs\\rock\\lib\\site-packages (from jupyterthemes) (7.8.0)\n",
      "Requirement already satisfied: jupyter-core in c:\\users\\smartbridge\\anaconda3\\envs\\rock\\lib\\site-packages (from jupyterthemes) (4.5.0)\n",
      "Requirement already satisfied: notebook>=5.6.0 in c:\\users\\smartbridge\\anaconda3\\envs\\rock\\lib\\site-packages (from jupyterthemes) (6.0.1)\n",
      "Requirement already satisfied: cycler>=0.10 in c:\\users\\smartbridge\\anaconda3\\envs\\rock\\lib\\site-packages (from matplotlib>=1.4.3->jupyterthemes) (0.10.0)\n",
      "Requirement already satisfied: kiwisolver>=1.0.1 in c:\\users\\smartbridge\\anaconda3\\envs\\rock\\lib\\site-packages (from matplotlib>=1.4.3->jupyterthemes) (1.1.0)\n",
      "Requirement already satisfied: pyparsing!=2.0.4,!=2.1.2,!=2.1.6,>=2.0.1 in c:\\users\\smartbridge\\anaconda3\\envs\\rock\\lib\\site-packages (from matplotlib>=1.4.3->jupyterthemes) (2.4.2)\n",
      "Requirement already satisfied: python-dateutil>=2.1 in c:\\users\\smartbridge\\anaconda3\\envs\\rock\\lib\\site-packages (from matplotlib>=1.4.3->jupyterthemes) (2.8.0)\n",
      "Requirement already satisfied: numpy>=1.11 in c:\\users\\smartbridge\\anaconda3\\envs\\rock\\lib\\site-packages (from matplotlib>=1.4.3->jupyterthemes) (1.19.5)\n",
      "Requirement already satisfied: six in c:\\users\\smartbridge\\anaconda3\\envs\\rock\\lib\\site-packages (from lesscpy>=0.11.2->jupyterthemes) (1.15.0)\n",
      "Requirement already satisfied: ply in c:\\users\\smartbridge\\anaconda3\\envs\\rock\\lib\\site-packages (from lesscpy>=0.11.2->jupyterthemes) (3.11)\n",
      "Requirement already satisfied: traitlets>=4.2 in c:\\users\\smartbridge\\anaconda3\\envs\\rock\\lib\\site-packages (from ipython>=5.4.1->jupyterthemes) (4.3.3)\n",
      "Requirement already satisfied: prompt-toolkit<2.1.0,>=2.0.0 in c:\\users\\smartbridge\\anaconda3\\envs\\rock\\lib\\site-packages (from ipython>=5.4.1->jupyterthemes) (2.0.10)\n",
      "Requirement already satisfied: decorator in c:\\users\\smartbridge\\anaconda3\\envs\\rock\\lib\\site-packages (from ipython>=5.4.1->jupyterthemes) (4.4.0)\n",
      "Requirement already satisfied: backcall in c:\\users\\smartbridge\\anaconda3\\envs\\rock\\lib\\site-packages (from ipython>=5.4.1->jupyterthemes) (0.1.0)\n",
      "Requirement already satisfied: pickleshare in c:\\users\\smartbridge\\anaconda3\\envs\\rock\\lib\\site-packages (from ipython>=5.4.1->jupyterthemes) (0.7.5)\n",
      "Requirement already satisfied: setuptools>=18.5 in c:\\users\\smartbridge\\anaconda3\\envs\\rock\\lib\\site-packages (from ipython>=5.4.1->jupyterthemes) (41.4.0)\n",
      "Requirement already satisfied: pygments in c:\\users\\smartbridge\\anaconda3\\envs\\rock\\lib\\site-packages (from ipython>=5.4.1->jupyterthemes) (2.4.2)\n",
      "Requirement already satisfied: jedi>=0.10 in c:\\users\\smartbridge\\anaconda3\\envs\\rock\\lib\\site-packages (from ipython>=5.4.1->jupyterthemes) (0.15.1)\n",
      "Requirement already satisfied: colorama; sys_platform == \"win32\" in c:\\users\\smartbridge\\anaconda3\\envs\\rock\\lib\\site-packages (from ipython>=5.4.1->jupyterthemes) (0.4.1)\n",
      "Requirement already satisfied: jupyter-client>=5.3.1 in c:\\users\\smartbridge\\anaconda3\\envs\\rock\\lib\\site-packages (from notebook>=5.6.0->jupyterthemes) (5.3.3)\n",
      "Requirement already satisfied: jinja2 in c:\\users\\smartbridge\\anaconda3\\envs\\rock\\lib\\site-packages (from notebook>=5.6.0->jupyterthemes) (2.10.3)\n",
      "Requirement already satisfied: ipykernel in c:\\users\\smartbridge\\anaconda3\\envs\\rock\\lib\\site-packages (from notebook>=5.6.0->jupyterthemes) (5.1.2)\n",
      "Requirement already satisfied: tornado>=5.0 in c:\\users\\smartbridge\\anaconda3\\envs\\rock\\lib\\site-packages (from notebook>=5.6.0->jupyterthemes) (6.0.3)\n",
      "Requirement already satisfied: prometheus-client in c:\\users\\smartbridge\\anaconda3\\envs\\rock\\lib\\site-packages (from notebook>=5.6.0->jupyterthemes) (0.7.1)\n",
      "Requirement already satisfied: nbformat in c:\\users\\smartbridge\\anaconda3\\envs\\rock\\lib\\site-packages (from notebook>=5.6.0->jupyterthemes) (4.4.0)\n",
      "Requirement already satisfied: nbconvert in c:\\users\\smartbridge\\anaconda3\\envs\\rock\\lib\\site-packages (from notebook>=5.6.0->jupyterthemes) (5.6.0)\n",
      "Requirement already satisfied: terminado>=0.8.1 in c:\\users\\smartbridge\\anaconda3\\envs\\rock\\lib\\site-packages (from notebook>=5.6.0->jupyterthemes) (0.8.2)\n",
      "Requirement already satisfied: Send2Trash in c:\\users\\smartbridge\\anaconda3\\envs\\rock\\lib\\site-packages (from notebook>=5.6.0->jupyterthemes) (1.5.0)\n",
      "Requirement already satisfied: pyzmq>=17 in c:\\users\\smartbridge\\anaconda3\\envs\\rock\\lib\\site-packages (from notebook>=5.6.0->jupyterthemes) (18.1.0)\n",
      "Requirement already satisfied: ipython-genutils in c:\\users\\smartbridge\\anaconda3\\envs\\rock\\lib\\site-packages (from notebook>=5.6.0->jupyterthemes) (0.2.0)\n",
      "Requirement already satisfied: wcwidth in c:\\users\\smartbridge\\anaconda3\\envs\\rock\\lib\\site-packages (from prompt-toolkit<2.1.0,>=2.0.0->ipython>=5.4.1->jupyterthemes) (0.1.7)\n",
      "Requirement already satisfied: parso>=0.5.0 in c:\\users\\smartbridge\\anaconda3\\envs\\rock\\lib\\site-packages (from jedi>=0.10->ipython>=5.4.1->jupyterthemes) (0.5.1)\n",
      "Requirement already satisfied: pywin32>=1.0; sys_platform == \"win32\" in c:\\users\\smartbridge\\anaconda3\\envs\\rock\\lib\\site-packages (from jupyter-client>=5.3.1->notebook>=5.6.0->jupyterthemes) (223)\n",
      "Requirement already satisfied: MarkupSafe>=0.23 in c:\\users\\smartbridge\\anaconda3\\envs\\rock\\lib\\site-packages (from jinja2->notebook>=5.6.0->jupyterthemes) (1.1.1)\n",
      "Requirement already satisfied: jsonschema!=2.5.0,>=2.4 in c:\\users\\smartbridge\\anaconda3\\envs\\rock\\lib\\site-packages (from nbformat->notebook>=5.6.0->jupyterthemes) (3.0.2)\n",
      "Requirement already satisfied: defusedxml in c:\\users\\smartbridge\\anaconda3\\envs\\rock\\lib\\site-packages (from nbconvert->notebook>=5.6.0->jupyterthemes) (0.6.0)\n",
      "Requirement already satisfied: testpath in c:\\users\\smartbridge\\anaconda3\\envs\\rock\\lib\\site-packages (from nbconvert->notebook>=5.6.0->jupyterthemes) (0.4.2)\n",
      "Requirement already satisfied: entrypoints>=0.2.2 in c:\\users\\smartbridge\\anaconda3\\envs\\rock\\lib\\site-packages (from nbconvert->notebook>=5.6.0->jupyterthemes) (0.3)\n",
      "Requirement already satisfied: bleach in c:\\users\\smartbridge\\anaconda3\\envs\\rock\\lib\\site-packages (from nbconvert->notebook>=5.6.0->jupyterthemes) (3.1.0)\n",
      "Requirement already satisfied: mistune<2,>=0.8.1 in c:\\users\\smartbridge\\anaconda3\\envs\\rock\\lib\\site-packages (from nbconvert->notebook>=5.6.0->jupyterthemes) (0.8.4)\n",
      "Requirement already satisfied: pandocfilters>=1.4.1 in c:\\users\\smartbridge\\anaconda3\\envs\\rock\\lib\\site-packages (from nbconvert->notebook>=5.6.0->jupyterthemes) (1.4.2)\n",
      "Requirement already satisfied: pyrsistent>=0.14.0 in c:\\users\\smartbridge\\anaconda3\\envs\\rock\\lib\\site-packages (from jsonschema!=2.5.0,>=2.4->nbformat->notebook>=5.6.0->jupyterthemes) (0.15.4)\n",
      "Requirement already satisfied: attrs>=17.4.0 in c:\\users\\smartbridge\\anaconda3\\envs\\rock\\lib\\site-packages (from jsonschema!=2.5.0,>=2.4->nbformat->notebook>=5.6.0->jupyterthemes) (19.2.0)\n",
      "Requirement already satisfied: webencodings in c:\\users\\smartbridge\\anaconda3\\envs\\rock\\lib\\site-packages (from bleach->nbconvert->notebook>=5.6.0->jupyterthemes) (0.5.1)\n",
      "Installing collected packages: lesscpy, jupyterthemes\n",
      "Successfully installed jupyterthemes-0.20.0 lesscpy-0.14.0\n"
     ]
    }
   ],
   "source": [
    "!pip install jupyterthemes"
   ]
  },
  {
   "cell_type": "code",
   "execution_count": 3,
   "metadata": {},
   "outputs": [],
   "source": [
    "!jt -t  monokai"
   ]
  },
  {
   "cell_type": "code",
   "execution_count": null,
   "metadata": {},
   "outputs": [],
   "source": [
    "!jt -t "
   ]
  },
  {
   "cell_type": "code",
   "execution_count": null,
   "metadata": {},
   "outputs": [],
   "source": []
  }
 ],
 "metadata": {
  "kernelspec": {
   "display_name": "Python 3",
   "language": "python",
   "name": "python3"
  },
  "language_info": {
   "codemirror_mode": {
    "name": "ipython",
    "version": 3
   },
   "file_extension": ".py",
   "mimetype": "text/x-python",
   "name": "python",
   "nbconvert_exporter": "python",
   "pygments_lexer": "ipython3",
   "version": "3.7.4"
  }
 },
 "nbformat": 4,
 "nbformat_minor": 4
}
